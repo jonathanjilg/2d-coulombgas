{
 "cells": [
  {
   "cell_type": "code",
   "execution_count": 1,
   "id": "fcce5829",
   "metadata": {},
   "outputs": [],
   "source": [
    "%matplotlib notebook\n",
    "import numpy as np\n",
    "from numba import njit\n",
    "import matplotlib.pyplot as plt\n",
    "from cg2d_total_mirror import calc_V, sweep"
   ]
  },
  {
   "cell_type": "code",
   "execution_count": 2,
   "id": "ff73139f",
   "metadata": {},
   "outputs": [],
   "source": [
    "@njit\n",
    "def calcArrs(Nsweeps,Tvec,Lvec,J = 0):\n",
    "    '''Performs metropolis sweeps for different parameters and returns simulation data'''\n",
    "    N_L = Lvec.shape[0]\n",
    "    N_T = Tvec.shape[0]\n",
    "    Harr = np.zeros((N_L,N_T,Nsweeps))\n",
    "    Narr = np.zeros((N_L,N_T,Nsweeps))\n",
    "    qy_flow_arr = np.zeros((N_L,N_T,Nsweeps))\n",
    "    \n",
    "    for i,L in enumerate(Lvec):\n",
    "        #print('L = '+str(L)+' is beginning')\n",
    "        lambd = 4*L\n",
    "        V = calc_V(L,2*L,lambd)\n",
    "        for j,T in enumerate(Tvec):\n",
    "            #print('T = '+str(T)+' is beginning')\n",
    "            lattice = np.zeros((L,2*L))\n",
    "            H = 0\n",
    "            N = 0\n",
    "            qy_flow = 0\n",
    "            for k in range(Nsweeps):\n",
    "                lattice, H, N, qy_flow = sweep(J,lattice,V,T,H,N,qy_flow)\n",
    "                Harr[i,j,k] = H\n",
    "                Narr[i,j,k] = N\n",
    "                qy_flow_arr[i,j,k] = qy_flow\n",
    "        #print('L = '+str(L)+' is done')\n",
    "    \n",
    "    return Harr, Narr, qy_flow_arr\n",
    "@njit\n",
    "def calcArrsCurrent(Nsweeps,Tvec,Lvec,Jvec):\n",
    "    '''Performs metropolis sweeps for different parameters and returns simulation data'''\n",
    "    N_J = Jvec.shape[0]\n",
    "    N_L = Lvec.shape[0]\n",
    "    N_T = Tvec.shape[0]\n",
    "    Harr = np.zeros((N_J,N_L,N_T,Nsweeps))\n",
    "    Narr = np.zeros((N_J,N_L,N_T,Nsweeps))\n",
    "    qy_flow_arr = np.zeros((N_J,N_L,N_T,Nsweeps))\n",
    "    \n",
    "    for i,J in enumerate(Jvec):\n",
    "        for j,L in enumerate(Lvec):\n",
    "            #print('L = '+str(L)+' is beginning')\n",
    "            lambd = 4*L\n",
    "            V = calc_V(2*L,2*L,lambd)\n",
    "            for k,T in enumerate(Tvec):\n",
    "                #print('T = '+str(T)+' is beginning')\n",
    "                lattice = np.zeros((2*L,2*L))\n",
    "                H = 0\n",
    "                N = 0\n",
    "                qy_flow = 0\n",
    "                for l in range(Nsweeps):\n",
    "                    lattice, H, N, qy_flow = sweep(J,lattice,V,T,H,N,qy_flow)\n",
    "                    Harr[i,j,k,l] = H\n",
    "                    Narr[i,j,k,l] = N\n",
    "                    qy_flow_arr[i,j,k,l] = qy_flow\n",
    "            #print('L = '+str(L)+' is done')\n",
    "    \n",
    "    return Harr, Narr, qy_flow_arr"
   ]
  },
  {
   "cell_type": "code",
   "execution_count": 8,
   "id": "ac5e6ac0",
   "metadata": {},
   "outputs": [],
   "source": [
    "Nsweeps = 100000\n",
    "Tvec = np.linspace(0.10,0.30,11)\n",
    "Lvec = np.array([4])\n",
    "Jvec = 0.1*np.logspace(0, 4, 20, base =np.e)\n",
    "Harr, Narr, qy_flow_arr = calcArrsCurrent(Nsweeps,Tvec,Lvec,Jvec)\n",
    "#timeit calcArrsCurrent(Nsweeps,Tvec,Lvec,Jvec)"
   ]
  },
  {
   "cell_type": "code",
   "execution_count": 9,
   "id": "914f31b8",
   "metadata": {},
   "outputs": [],
   "source": [
    "np.save('cgdata_17feb.npy', np.array([Harr, Narr, qy_flow_arr]))"
   ]
  },
  {
   "cell_type": "code",
   "execution_count": 10,
   "id": "54f1c57b",
   "metadata": {
    "scrolled": true
   },
   "outputs": [],
   "source": [
    "gen_data = np.array([\"Nsweeps = 10000\", \"Tvec = np.linspace(0.10,0.30,11)\", \"Lvec = np.array([4])\", \"0.1*np.logspace(0, 4, 20, base =np.e)\"])\n",
    "np.savetxt('cgdata_17feb.txt', gen_data, fmt=\"%s\")"
   ]
  }
 ],
 "metadata": {
  "kernelspec": {
   "display_name": "Python 3 (ipykernel)",
   "language": "python",
   "name": "python3"
  },
  "language_info": {
   "codemirror_mode": {
    "name": "ipython",
    "version": 3
   },
   "file_extension": ".py",
   "mimetype": "text/x-python",
   "name": "python",
   "nbconvert_exporter": "python",
   "pygments_lexer": "ipython3",
   "version": "3.8.8"
  }
 },
 "nbformat": 4,
 "nbformat_minor": 5
}
